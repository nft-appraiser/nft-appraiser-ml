{
 "cells": [
  {
   "cell_type": "markdown",
   "id": "0e03ba4d-e885-4cf4-89e2-abc968b6c1b3",
   "metadata": {},
   "source": [
    "# Test ML Library  \n",
    "- CPU環境ではTensorflowからGPUが使用されていないことに関する警告が表示される可能性がる．  "
   ]
  },
  {
   "cell_type": "code",
   "execution_count": 1,
   "id": "c45eab16-c621-45f8-acb8-e8f4394b3515",
   "metadata": {},
   "outputs": [
    {
     "name": "stderr",
     "output_type": "stream",
     "text": [
      "2021-11-02 21:56:15.017787: W tensorflow/stream_executor/platform/default/dso_loader.cc:64] Could not load dynamic library 'libcudart.so.11.0'; dlerror: libcudart.so.11.0: cannot open shared object file: No such file or directory; LD_LIBRARY_PATH: /usr/local/lib/python3.9/site-packages/cv2/../../lib64:\n",
      "2021-11-02 21:56:15.017809: I tensorflow/stream_executor/cuda/cudart_stub.cc:29] Ignore above cudart dlerror if you do not have a GPU set up on your machine.\n"
     ]
    }
   ],
   "source": [
    "import warnings\n",
    "\n",
    "from ml_utils import *\n",
    "\n",
    "warnings.filterwarnings('ignore')"
   ]
  },
  {
   "cell_type": "markdown",
   "id": "62021341-51bc-4b07-b875-bff902cbb9bf",
   "metadata": {},
   "source": [
    "## Load Data  "
   ]
  },
  {
   "cell_type": "code",
   "execution_count": 2,
   "id": "4540aa2e-3962-4c88-8871-affd247c1048",
   "metadata": {},
   "outputs": [
    {
     "name": "stdout",
     "output_type": "stream",
     "text": [
      "data shape: (4146, 18)\n",
      "data shape: (37306, 23)\n"
     ]
    }
   ],
   "source": [
    "A_IMGPATH = \"data/taskA/img\"\n",
    "A_DFPATH = \"data/taskA/table\"\n",
    "B_IMGPATH = \"data/taskB/img\"\n",
    "B_DFPATH = \"data/taskB/table\"\n",
    "asset_df_A = pd.read_csv(os.path.join(A_DFPATH, \"asset_data.csv\"))\n",
    "asset_df_B = pd.read_csv(os.path.join(B_DFPATH, \"asset_data.csv\"))\n",
    "\n",
    "asset_df_A = pd.concat((asset_df_A, pd.get_dummies(asset_df_A['asset_contract.name'])), axis=1)\n",
    "asset_df_B[asset_df_A.columns.values[8:]] = 0\n",
    "asset_df_B = asset_df_B.rename(columns={\"asset.num_sales\": \"num_sales\"})\n",
    "asset_df_A = asset_df_A.rename(columns={\"last_sale.total_price\": \"current_price\"})\n",
    "asset_df_A['current_price'] = asset_df_A['current_price'].astype(float)\n",
    "\n",
    "asset_df_A[\"full_path\"] =\\\n",
    "    asset_df_A[\"image_id\"].apply(lambda x: A_IMGPATH + \"/\" + x)\n",
    "asset_df_B[\"full_path\"] =\\\n",
    "    asset_df_B[\"image_id\"].apply(lambda x: B_IMGPATH + \"/\" + x)\n",
    "\n",
    "print(f\"data shape: {asset_df_A.shape}\")\n",
    "print(f\"data shape: {asset_df_B.shape}\")"
   ]
  },
  {
   "cell_type": "markdown",
   "id": "309a6d68-d323-487d-b993-0511274e39a5",
   "metadata": {},
   "source": [
    "### Task A Model  "
   ]
  },
  {
   "cell_type": "code",
   "execution_count": 3,
   "id": "87bc3673-1960-4a70-981a-d691448c0a64",
   "metadata": {},
   "outputs": [
    {
     "name": "stderr",
     "output_type": "stream",
     "text": [
      "2021-11-02 21:56:16.497654: W tensorflow/stream_executor/platform/default/dso_loader.cc:64] Could not load dynamic library 'libcuda.so.1'; dlerror: libcuda.so.1: cannot open shared object file: No such file or directory; LD_LIBRARY_PATH: /usr/local/lib/python3.9/site-packages/cv2/../../lib64:\n",
      "2021-11-02 21:56:16.497674: W tensorflow/stream_executor/cuda/cuda_driver.cc:269] failed call to cuInit: UNKNOWN ERROR (303)\n",
      "2021-11-02 21:56:16.497705: I tensorflow/stream_executor/cuda/cuda_diagnostics.cc:163] no NVIDIA GPU device is present: /dev/nvidia0 does not exist\n",
      "2021-11-02 21:56:16.497836: I tensorflow/core/platform/cpu_feature_guard.cc:142] This TensorFlow binary is optimized with oneAPI Deep Neural Network Library (oneDNN) to use the following CPU instructions in performance-critical operations:  AVX2 FMA\n",
      "To enable them in other operations, rebuild TensorFlow with the appropriate compiler flags.\n",
      "2021-11-02 21:56:18.401591: I tensorflow/compiler/mlir/mlir_graph_optimization_pass.cc:185] None of the MLIR Optimization Passes are enabled (registered 2)\n"
     ]
    },
    {
     "name": "stdout",
     "output_type": "stream",
     "text": [
      "0.06589031\n"
     ]
    }
   ],
   "source": [
    "file_name = \"models/efn_baselineA.pkl\"\n",
    "model = load_model(file_name)\n",
    "pred = model.predict(asset_df_A['full_path'][0], asset_df_A['asset_contract.name'][0],\n",
    "                     asset_df_A['num_sales'][0])\n",
    "print(pred)"
   ]
  },
  {
   "cell_type": "markdown",
   "id": "b8ac2b4b-b1c9-49a7-a0b6-a3e55204c989",
   "metadata": {},
   "source": [
    "### Task B Model"
   ]
  },
  {
   "cell_type": "code",
   "execution_count": 4,
   "id": "90a815f2-13d4-42f7-bddf-27f536a16c47",
   "metadata": {},
   "outputs": [
    {
     "name": "stdout",
     "output_type": "stream",
     "text": [
      "0.08978978\n"
     ]
    }
   ],
   "source": [
    "file_name = \"models/efn_baselineB.pkl\"\n",
    "model = load_model(file_name)\n",
    "pred = model.predict(asset_df_B['full_path'][1], None,\n",
    "                     asset_df_B['num_sales'][1])\n",
    "print(pred)"
   ]
  },
  {
   "cell_type": "code",
   "execution_count": null,
   "id": "8b38025e-9c27-47a9-8f43-e9d48b825257",
   "metadata": {},
   "outputs": [],
   "source": []
  }
 ],
 "metadata": {
  "kernelspec": {
   "display_name": "Python 3 (ipykernel)",
   "language": "python",
   "name": "python3"
  },
  "language_info": {
   "codemirror_mode": {
    "name": "ipython",
    "version": 3
   },
   "file_extension": ".py",
   "mimetype": "text/x-python",
   "name": "python",
   "nbconvert_exporter": "python",
   "pygments_lexer": "ipython3",
   "version": "3.9.7"
  }
 },
 "nbformat": 4,
 "nbformat_minor": 5
}
