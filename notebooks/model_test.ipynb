{
 "cells": [
  {
   "cell_type": "markdown",
   "id": "0e03ba4d-e885-4cf4-89e2-abc968b6c1b3",
   "metadata": {},
   "source": [
    "# Test ML Library  \n",
    "- CPU環境ではTensorflowからGPUが使用されていないことに関する警告が表示される可能性がる．  "
   ]
  },
  {
   "cell_type": "code",
   "execution_count": 1,
   "id": "c45eab16-c621-45f8-acb8-e8f4394b3515",
   "metadata": {},
   "outputs": [
    {
     "name": "stdout",
     "output_type": "stream",
     "text": [
      "INFO:tensorflow:Enabling eager execution\n",
      "INFO:tensorflow:Enabling v2 tensorshape\n",
      "INFO:tensorflow:Enabling resource variables\n",
      "INFO:tensorflow:Enabling tensor equality\n",
      "INFO:tensorflow:Enabling control flow v2\n"
     ]
    }
   ],
   "source": [
    "import warnings\n",
    "import sys\n",
    "sys.path.append(\"../src\")\n",
    "\n",
    "from ml_utils import *\n",
    "\n",
    "warnings.filterwarnings('ignore')"
   ]
  },
  {
   "cell_type": "markdown",
   "id": "62021341-51bc-4b07-b875-bff902cbb9bf",
   "metadata": {},
   "source": [
    "## Load Data  "
   ]
  },
  {
   "cell_type": "code",
   "execution_count": 2,
   "id": "4540aa2e-3962-4c88-8871-affd247c1048",
   "metadata": {},
   "outputs": [
    {
     "name": "stdout",
     "output_type": "stream",
     "text": [
      "data shape: (1500, 12)\n",
      "data shape: (236, 17)\n"
     ]
    }
   ],
   "source": [
    "A_IMGPATH = \"../data/taskA/img\"\n",
    "A_DFPATH = \"../data/taskA/table\"\n",
    "B_IMGPATH = \"../data/taskB/img\"\n",
    "B_DFPATH = \"../data/taskB/table\"\n",
    "asset_df_A = pd.read_csv(os.path.join(A_DFPATH, \"asset_data.csv\"))\n",
    "asset_df_B = pd.read_csv(os.path.join(B_DFPATH, \"asset_data.csv\"))\n",
    "\n",
    "asset_df_A = pd.concat((asset_df_A, pd.get_dummies(asset_df_A['asset_contract.name'])), axis=1)\n",
    "asset_df_B[asset_df_A.columns.values[8:]] = 0\n",
    "asset_df_B = asset_df_B.rename(columns={\"asset.num_sales\": \"num_sales\"})\n",
    "asset_df_A = asset_df_A.rename(columns={\"last_sale.total_price\": \"current_price\"})\n",
    "asset_df_A['current_price'] = asset_df_A['current_price'].astype(float)\n",
    "\n",
    "asset_df_A[\"full_path\"] =\\\n",
    "    asset_df_A[\"image_id\"].apply(lambda x: A_IMGPATH + \"/\" + x)\n",
    "asset_df_B[\"full_path\"] =\\\n",
    "    asset_df_B[\"image_id\"].apply(lambda x: B_IMGPATH + \"/\" + x)\n",
    "\n",
    "print(f\"data shape: {asset_df_A.shape}\")\n",
    "print(f\"data shape: {asset_df_B.shape}\")"
   ]
  },
  {
   "cell_type": "markdown",
   "id": "309a6d68-d323-487d-b993-0511274e39a5",
   "metadata": {},
   "source": [
    "### Task A Model  "
   ]
  },
  {
   "cell_type": "code",
   "execution_count": 3,
   "id": "87bc3673-1960-4a70-981a-d691448c0a64",
   "metadata": {},
   "outputs": [
    {
     "name": "stdout",
     "output_type": "stream",
     "text": [
      "WARNING:tensorflow:No training configuration found in the save file, so the model was *not* compiled. Compile it manually.\n",
      "3.1849637\n"
     ]
    }
   ],
   "source": [
    "file_name = \"../models/baselineA.pkl\"\n",
    "model = load_model(file_name)\n",
    "pred = model.predict(asset_df_A['full_path'][0], asset_df_A['asset_contract.name'][0],\n",
    "                     asset_df_A['num_sales'][0])\n",
    "print(pred)"
   ]
  },
  {
   "cell_type": "markdown",
   "id": "b8ac2b4b-b1c9-49a7-a0b6-a3e55204c989",
   "metadata": {},
   "source": [
    "### Task B Model"
   ]
  },
  {
   "cell_type": "code",
   "execution_count": 4,
   "id": "90a815f2-13d4-42f7-bddf-27f536a16c47",
   "metadata": {},
   "outputs": [
    {
     "name": "stdout",
     "output_type": "stream",
     "text": [
      "WARNING:tensorflow:No training configuration found in the save file, so the model was *not* compiled. Compile it manually.\n",
      "0.6984123\n"
     ]
    }
   ],
   "source": [
    "file_name = \"../models/baselineB.pkl\"\n",
    "model = load_model(file_name)\n",
    "pred = model.predict(asset_df_B['full_path'][0], None,\n",
    "                     asset_df_B['num_sales'][0])\n",
    "print(pred)"
   ]
  },
  {
   "cell_type": "code",
   "execution_count": null,
   "id": "8b38025e-9c27-47a9-8f43-e9d48b825257",
   "metadata": {},
   "outputs": [],
   "source": []
  }
 ],
 "metadata": {
  "kernelspec": {
   "display_name": "Python 3",
   "language": "python",
   "name": "python3"
  },
  "language_info": {
   "codemirror_mode": {
    "name": "ipython",
    "version": 3
   },
   "file_extension": ".py",
   "mimetype": "text/x-python",
   "name": "python",
   "nbconvert_exporter": "python",
   "pygments_lexer": "ipython3",
   "version": "3.9.5"
  }
 },
 "nbformat": 4,
 "nbformat_minor": 5
}
