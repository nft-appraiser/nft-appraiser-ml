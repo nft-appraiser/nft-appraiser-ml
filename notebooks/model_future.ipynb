{
 "cells": [
  {
   "cell_type": "markdown",
   "id": "f351fade-ebec-453e-8546-2ca5a4f9d135",
   "metadata": {},
   "source": [
    "# 未来価格の予測  \n",
    "\n",
    "## 予測対象: 未来の価格と今の価格の値上がり率（対数）  \n",
    "$$y = \\log{\\frac{future\\_price}{current\\_price}} = \\log{future\\_price} - \\log{current\\_price}$$  \n",
    "\n",
    "直接求めるか，未来価格を予測して比率を計算するか．  \n",
    "\n",
    "## 使用する特徴量  \n",
    "- 画像の特徴量（SwinTransformerで抽出）\n",
    "- 直近50件の価格推移（LSTMで抽出）   \n",
    "- 各コレクションの価格平均  \n",
    "\n",
    "## モデルの構成  \n",
    "- 画像の特徴量をSwinTransformerで抽出（64）  \n",
    "- 価格推移を特徴量として抽出  \n",
    "- 上2つと価格平均を結合して，機械学習モデルで予測（モデルは要検討）  \n",
    "\n",
    "### 結果  \n",
    "- linear regression: mae 0.322  \n",
    "- lightgbm: mae 0.246  \n",
    "- NN: 0.275  "
   ]
  },
  {
   "cell_type": "code",
   "execution_count": 1,
   "id": "0fb3507e-d7d9-4f35-a0a1-0fec37036bb6",
   "metadata": {},
   "outputs": [],
   "source": [
    "from comet_ml import Experiment\n",
    "\n",
    "import os\n",
    "import sys\n",
    "import gc\n",
    "import warnings\n",
    "\n",
    "import numpy as np\n",
    "import pandas as pd\n",
    "from sklearn.preprocessing import StandardScaler, RobustScaler\n",
    "from sklearn.metrics import mean_squared_error, mean_absolute_error\n",
    "from sklearn.model_selection import KFold, train_test_split, StratifiedKFold\n",
    "from sklearn.linear_model import LinearRegression\n",
    "from tqdm.notebook import tqdm\n",
    "import lightgbm as lgb\n",
    "import tensorflow as tf\n",
    "import tensorflow.keras.layers as layers\n",
    "import tensorflow.keras.models as models\n",
    "import tensorflow.keras.losses as losses\n",
    "import tensorflow.keras.optimizers as optim\n",
    "import tensorflow.keras.activations as activations\n",
    "import matplotlib.pyplot as plt\n",
    "\n",
    "sys.path.append('../src')\n",
    "sys.path.append('../Swin-Transformer-TF')\n",
    "from ml_utils import *\n",
    "from utils import *\n",
    "from swintransformer import SwinTransformer\n",
    "\n",
    "warnings.filterwarnings('ignore')\n",
    "pd.options.display.max_columns = 200\n",
    "pd.options.display.max_rows = 20\n",
    "\n",
    "\n",
    "%matplotlib inline"
   ]
  },
  {
   "cell_type": "code",
   "execution_count": 2,
   "id": "8989aeac-9880-4a1f-9895-db3aaab97542",
   "metadata": {},
   "outputs": [
    {
     "name": "stdout",
     "output_type": "stream",
     "text": [
      "ensemble data shape: (21747, 235)\n"
     ]
    }
   ],
   "source": [
    "TABLE_DIR = \"../data/taskA/table\"\n",
    "en_df = pd.read_csv(os.path.join(TABLE_DIR, \"ensemble_data.csv\"))  # 各画像データをSwinTransformerで特徴量抽出したデータを含む\n",
    "en_df = en_df.drop('target', axis=1)\n",
    "en_df = en_df.rename(columns={'price_0': 'target'})\n",
    "en_df['target'] = en_df['target'].apply(lambda x: np.log1p(x))\n",
    "\n",
    "print(f\"ensemble data shape: {en_df.shape}\")"
   ]
  },
  {
   "cell_type": "code",
   "execution_count": 3,
   "id": "8249ee43-9356-4c93-a8d6-c7b327e8e735",
   "metadata": {},
   "outputs": [
    {
     "name": "stdout",
     "output_type": "stream",
     "text": [
      "drop 1 transaction data: (13530, 236)\n"
     ]
    }
   ],
   "source": [
    "en_df = en_df.query(\"price_1 != 0\").reset_index(drop=True)\n",
    "en_df = en_df[en_df['collection.name'] != 'Angry Apes United']  # 1つしか存在しないもの\n",
    "collection_means = en_df.groupby('collection.name')['price_1'].mean()\n",
    "en_df['target_encoding'] = en_df['collection.name'].map(collection_means)\n",
    "print(f\"drop 1 transaction data: {en_df.shape}\")"
   ]
  },
  {
   "cell_type": "code",
   "execution_count": 4,
   "id": "0a26e9e7-34e9-4a1d-baad-02c48118644e",
   "metadata": {},
   "outputs": [],
   "source": [
    "def create_model(len_seq: int = 49, input_dim: int = 1, output_dim: int = 1):\n",
    "    inputs = layers.Input(shape=(len_seq, input_dim))\n",
    "    lstm = layers.LSTM(64)(inputs)\n",
    "    outputs = layers.Dense(output_dim)(lstm)\n",
    "\n",
    "    model = models.Model(inputs=[inputs], outputs=[outputs])\n",
    "    model.compile(loss=losses.mean_squared_error, optimizer=optim.Adam())\n",
    "    return model"
   ]
  },
  {
   "cell_type": "code",
   "execution_count": 5,
   "id": "82eca847-ba67-4a76-ae6e-7eaf29b6934c",
   "metadata": {
    "tags": []
   },
   "outputs": [
    {
     "name": "stderr",
     "output_type": "stream",
     "text": [
      "2021-12-30 07:57:22.592524: I tensorflow/stream_executor/cuda/cuda_gpu_executor.cc:937] successful NUMA node read from SysFS had negative value (-1), but there must be at least one NUMA node, so returning NUMA node zero\n",
      "2021-12-30 07:57:22.634313: I tensorflow/stream_executor/cuda/cuda_gpu_executor.cc:937] successful NUMA node read from SysFS had negative value (-1), but there must be at least one NUMA node, so returning NUMA node zero\n",
      "2021-12-30 07:57:22.634735: I tensorflow/stream_executor/cuda/cuda_gpu_executor.cc:937] successful NUMA node read from SysFS had negative value (-1), but there must be at least one NUMA node, so returning NUMA node zero\n",
      "2021-12-30 07:57:22.635477: I tensorflow/core/platform/cpu_feature_guard.cc:142] This TensorFlow binary is optimized with oneAPI Deep Neural Network Library (oneDNN) to use the following CPU instructions in performance-critical operations:  AVX2 AVX512F FMA\n",
      "To enable them in other operations, rebuild TensorFlow with the appropriate compiler flags.\n",
      "2021-12-30 07:57:22.636524: I tensorflow/stream_executor/cuda/cuda_gpu_executor.cc:937] successful NUMA node read from SysFS had negative value (-1), but there must be at least one NUMA node, so returning NUMA node zero\n",
      "2021-12-30 07:57:22.636912: I tensorflow/stream_executor/cuda/cuda_gpu_executor.cc:937] successful NUMA node read from SysFS had negative value (-1), but there must be at least one NUMA node, so returning NUMA node zero\n",
      "2021-12-30 07:57:22.637299: I tensorflow/stream_executor/cuda/cuda_gpu_executor.cc:937] successful NUMA node read from SysFS had negative value (-1), but there must be at least one NUMA node, so returning NUMA node zero\n",
      "2021-12-30 07:57:23.235255: I tensorflow/stream_executor/cuda/cuda_gpu_executor.cc:937] successful NUMA node read from SysFS had negative value (-1), but there must be at least one NUMA node, so returning NUMA node zero\n",
      "2021-12-30 07:57:23.235656: I tensorflow/stream_executor/cuda/cuda_gpu_executor.cc:937] successful NUMA node read from SysFS had negative value (-1), but there must be at least one NUMA node, so returning NUMA node zero\n",
      "2021-12-30 07:57:23.236014: I tensorflow/stream_executor/cuda/cuda_gpu_executor.cc:937] successful NUMA node read from SysFS had negative value (-1), but there must be at least one NUMA node, so returning NUMA node zero\n",
      "2021-12-30 07:57:23.236375: I tensorflow/core/common_runtime/gpu/gpu_device.cc:1510] Created device /job:localhost/replica:0/task:0/device:GPU:0 with 9573 MB memory:  -> device: 0, name: NVIDIA GeForce RTX 3060, pci bus id: 0000:01:00.0, compute capability: 8.6\n"
     ]
    },
    {
     "name": "stdout",
     "output_type": "stream",
     "text": [
      "Model: \"model\"\n",
      "_________________________________________________________________\n",
      "Layer (type)                 Output Shape              Param #   \n",
      "=================================================================\n",
      "input_1 (InputLayer)         [(None, 49, 1)]           0         \n",
      "_________________________________________________________________\n",
      "lstm (LSTM)                  (None, 64)                16896     \n",
      "_________________________________________________________________\n",
      "dense (Dense)                (None, 1)                 65        \n",
      "=================================================================\n",
      "Total params: 16,961\n",
      "Trainable params: 16,961\n",
      "Non-trainable params: 0\n",
      "_________________________________________________________________\n"
     ]
    }
   ],
   "source": [
    "model = create_model()\n",
    "model.summary()"
   ]
  },
  {
   "cell_type": "code",
   "execution_count": 6,
   "id": "6c0708b7-ce8d-4056-8273-e3cdfe413ff1",
   "metadata": {
    "tags": []
   },
   "outputs": [
    {
     "name": "stdout",
     "output_type": "stream",
     "text": [
      "Epoch 1/20\n"
     ]
    },
    {
     "name": "stderr",
     "output_type": "stream",
     "text": [
      "2021-12-30 07:57:23.474684: I tensorflow/compiler/mlir/mlir_graph_optimization_pass.cc:185] None of the MLIR Optimization Passes are enabled (registered 2)\n",
      "2021-12-30 07:57:25.036685: I tensorflow/stream_executor/cuda/cuda_dnn.cc:369] Loaded cuDNN version 8204\n"
     ]
    },
    {
     "name": "stdout",
     "output_type": "stream",
     "text": [
      "  1/191 [..............................] - ETA: 8:44 - loss: 4.6698"
     ]
    },
    {
     "name": "stderr",
     "output_type": "stream",
     "text": [
      "2021-12-30 07:57:26.115749: I tensorflow/stream_executor/cuda/cuda_blas.cc:1760] TensorFloat-32 will be used for the matrix multiplication. This will only be logged once.\n"
     ]
    },
    {
     "name": "stdout",
     "output_type": "stream",
     "text": [
      "191/191 [==============================] - 3s 3ms/step - loss: 1.5026 - val_loss: 0.2438\n",
      "Epoch 2/20\n",
      "191/191 [==============================] - 0s 2ms/step - loss: 1.1072 - val_loss: 0.3128\n",
      "Epoch 3/20\n",
      "191/191 [==============================] - 0s 2ms/step - loss: 1.0677 - val_loss: 0.1693\n",
      "Epoch 4/20\n",
      "191/191 [==============================] - 0s 2ms/step - loss: 1.0654 - val_loss: 0.2682\n",
      "Epoch 5/20\n",
      "191/191 [==============================] - 0s 2ms/step - loss: 1.0481 - val_loss: 0.2188\n",
      "Epoch 6/20\n",
      "191/191 [==============================] - 0s 2ms/step - loss: 1.0404 - val_loss: 0.2278\n",
      "Epoch 7/20\n",
      "191/191 [==============================] - 0s 2ms/step - loss: 1.0556 - val_loss: 0.1280\n",
      "Epoch 8/20\n",
      "191/191 [==============================] - 0s 2ms/step - loss: 1.0380 - val_loss: 0.1267\n",
      "Epoch 9/20\n",
      "191/191 [==============================] - 0s 2ms/step - loss: 1.0205 - val_loss: 0.1922\n",
      "Epoch 10/20\n",
      "191/191 [==============================] - 0s 2ms/step - loss: 1.0284 - val_loss: 0.2902\n",
      "Epoch 11/20\n",
      "191/191 [==============================] - 0s 2ms/step - loss: 1.0413 - val_loss: 0.3058\n",
      "Epoch 12/20\n",
      "191/191 [==============================] - 0s 2ms/step - loss: 1.0333 - val_loss: 0.2952\n",
      "Epoch 13/20\n",
      "191/191 [==============================] - 0s 2ms/step - loss: 1.0289 - val_loss: 0.2273\n",
      "Epoch 14/20\n",
      "191/191 [==============================] - 0s 2ms/step - loss: 1.0214 - val_loss: 0.2303\n",
      "Epoch 15/20\n",
      "191/191 [==============================] - 0s 2ms/step - loss: 1.0012 - val_loss: 0.2071\n",
      "Epoch 16/20\n",
      "191/191 [==============================] - 0s 2ms/step - loss: 1.0079 - val_loss: 0.1411\n",
      "Epoch 17/20\n",
      "191/191 [==============================] - 0s 2ms/step - loss: 1.0042 - val_loss: 0.3031\n",
      "Epoch 18/20\n",
      "191/191 [==============================] - 0s 2ms/step - loss: 0.9883 - val_loss: 0.1636\n",
      "Epoch 19/20\n",
      "191/191 [==============================] - 0s 2ms/step - loss: 1.0011 - val_loss: 0.2455\n",
      "Epoch 20/20\n",
      "191/191 [==============================] - 0s 2ms/step - loss: 1.0066 - val_loss: 0.2185\n"
     ]
    },
    {
     "data": {
      "text/plain": [
       "<keras.callbacks.History at 0x7fd355ec3580>"
      ]
     },
     "execution_count": 6,
     "metadata": {},
     "output_type": "execute_result"
    }
   ],
   "source": [
    "features = [f\"price_{i}\" for i in range(1, 50)]\n",
    "target = 'target'\n",
    "\n",
    "X = en_df[features].values.reshape(-1, 49, 1)\n",
    "y = en_df[target].values\n",
    "\n",
    "model.fit(X, y, validation_split=0.1, epochs=20, batch_size=64)"
   ]
  },
  {
   "cell_type": "code",
   "execution_count": 7,
   "id": "5d7301e0-e609-4e4a-b513-94f6a1e28e1b",
   "metadata": {},
   "outputs": [],
   "source": [
    "base_model = models.Sequential(model.layers[:-1])\n",
    "seq_features = base_model.predict(X)\n",
    "\n",
    "seq_names = [f\"seq_feature{i}\" for i in range(64)]\n",
    "en_df[seq_names] = seq_features"
   ]
  },
  {
   "cell_type": "code",
   "execution_count": 8,
   "id": "bc3c455b-b809-4d2d-bc8f-d2ec0e5cbb5d",
   "metadata": {},
   "outputs": [],
   "source": [
    "image_names = [f\"image_feature{i}\" for i in range(64)]\n",
    "use_cols = seq_names + image_names + ['target_encoding']\n",
    "target = 'target'"
   ]
  },
  {
   "cell_type": "raw",
   "id": "f0fd595b-e675-4f85-b659-f5faa196d641",
   "metadata": {},
   "source": [
    "experiment = Experiment(\n",
    "    api_key=get_comet_ml_key(),\n",
    "    project_name=\"nft-appraiser\",\n",
    "    workspace=\"nft-appraiser\",\n",
    ")"
   ]
  },
  {
   "cell_type": "code",
   "execution_count": 9,
   "id": "f7e3abb2-6d0d-48db-8652-659885bd1426",
   "metadata": {},
   "outputs": [],
   "source": [
    "def eval_model(df, features, target, model, model_name):\n",
    "    kf = StratifiedKFold(n_splits=4, random_state=6174, shuffle=True)\n",
    "    rmse_scores = np.array([])\n",
    "    mae_scores = np.array([])\n",
    "    model_no = 0\n",
    "    models = {}\n",
    "\n",
    "    for train_idx, val_idx in kf.split(df, df['collection.name'].values):\n",
    "        train_df, val_df = df.iloc[train_idx], df.iloc[val_idx]\n",
    "\n",
    "        enc = train_df.groupby(['collection.name'])['target'].mean()\n",
    "        train_df['target_encoding'] = train_df['collection.name'].map(enc)\n",
    "        val_df['target_encoding'] = val_df['collection.name'].map(enc)\n",
    "\n",
    "        train_X, val_X = train_df[features].values, val_df[features].values\n",
    "        train_y, val_y = train_df[target].values, val_df[target].values\n",
    "\n",
    "        sc = StandardScaler()\n",
    "        train_X = sc.fit_transform(train_X)\n",
    "        val_X = sc.transform(val_X)\n",
    "\n",
    "        model.fit(train_X, train_y)\n",
    "        pred = model.predict(val_X)\n",
    "        rmse = np.sqrt(mean_squared_error(val_y, pred))\n",
    "        mae = mean_absolute_error(val_y, pred)\n",
    "\n",
    "        rmse_scores = np.append(rmse_scores, rmse)\n",
    "        mae_scores = np.append(mae_scores, mae)\n",
    "\n",
    "        models[f\"model_{model_no}\"] = model\n",
    "        model_no += 1\n",
    "\n",
    "    print(f\"Use model: {model_name}\")\n",
    "    print(f\"RMSE Score: {rmse_scores.mean()}\")\n",
    "    print(f\"MAE Score: {mae_scores.mean()}\")\n",
    "\n",
    "    return models"
   ]
  },
  {
   "cell_type": "code",
   "execution_count": 10,
   "id": "fea23fdb-35ad-466f-8e57-2db9ac6dcaa0",
   "metadata": {},
   "outputs": [
    {
     "name": "stdout",
     "output_type": "stream",
     "text": [
      "Use model: Linear Regression\n",
      "RMSE Score: 1.623705685446118\n",
      "MAE Score: 0.3297920608009465\n"
     ]
    }
   ],
   "source": [
    "linear_models = eval_model(en_df, use_cols, target, LinearRegression(), \"Linear Regression\")"
   ]
  },
  {
   "cell_type": "code",
   "execution_count": 11,
   "id": "351a0d7a-21f8-410f-a698-3b2f551d053b",
   "metadata": {},
   "outputs": [
    {
     "name": "stdout",
     "output_type": "stream",
     "text": [
      "Use model: Light GBM\n",
      "RMSE Score: 0.6436164986904097\n",
      "MAE Score: 0.24455112306245802\n"
     ]
    }
   ],
   "source": [
    "lgb_models = eval_model(en_df, use_cols, target, lgb.LGBMRegressor(), \"Light GBM\")"
   ]
  },
  {
   "cell_type": "code",
   "execution_count": 12,
   "id": "db981f0e-f6b8-4733-83e2-c9891a3698d7",
   "metadata": {},
   "outputs": [],
   "source": [
    "X = en_df[use_cols].values\n",
    "pred = np.zeros(len(X))\n",
    "for model in lgb_models.values():\n",
    "    pred += model.predict(StandardScaler().fit_transform(X))\n",
    "en_df['pred'] = pred / 4"
   ]
  },
  {
   "cell_type": "code",
   "execution_count": 13,
   "id": "845f834c-3927-4056-bc1d-18a9f5ee46ff",
   "metadata": {},
   "outputs": [
    {
     "data": {
      "text/html": [
       "<div>\n",
       "<style scoped>\n",
       "    .dataframe tbody tr th:only-of-type {\n",
       "        vertical-align: middle;\n",
       "    }\n",
       "\n",
       "    .dataframe tbody tr th {\n",
       "        vertical-align: top;\n",
       "    }\n",
       "\n",
       "    .dataframe thead th {\n",
       "        text-align: right;\n",
       "    }\n",
       "</style>\n",
       "<table border=\"1\" class=\"dataframe\">\n",
       "  <thead>\n",
       "    <tr style=\"text-align: right;\">\n",
       "      <th></th>\n",
       "      <th>target</th>\n",
       "      <th>pred</th>\n",
       "    </tr>\n",
       "  </thead>\n",
       "  <tbody>\n",
       "    <tr>\n",
       "      <th>count</th>\n",
       "      <td>13530.000000</td>\n",
       "      <td>13530.000000</td>\n",
       "    </tr>\n",
       "    <tr>\n",
       "      <th>mean</th>\n",
       "      <td>1.420694</td>\n",
       "      <td>1.532189</td>\n",
       "    </tr>\n",
       "    <tr>\n",
       "      <th>std</th>\n",
       "      <td>1.446046</td>\n",
       "      <td>1.214016</td>\n",
       "    </tr>\n",
       "    <tr>\n",
       "      <th>min</th>\n",
       "      <td>0.000000</td>\n",
       "      <td>-0.075339</td>\n",
       "    </tr>\n",
       "    <tr>\n",
       "      <th>25%</th>\n",
       "      <td>0.463734</td>\n",
       "      <td>0.921398</td>\n",
       "    </tr>\n",
       "    <tr>\n",
       "      <th>50%</th>\n",
       "      <td>1.029619</td>\n",
       "      <td>1.141290</td>\n",
       "    </tr>\n",
       "    <tr>\n",
       "      <th>75%</th>\n",
       "      <td>1.856298</td>\n",
       "      <td>1.547898</td>\n",
       "    </tr>\n",
       "    <tr>\n",
       "      <th>max</th>\n",
       "      <td>19.336971</td>\n",
       "      <td>13.289938</td>\n",
       "    </tr>\n",
       "  </tbody>\n",
       "</table>\n",
       "</div>"
      ],
      "text/plain": [
       "             target          pred\n",
       "count  13530.000000  13530.000000\n",
       "mean       1.420694      1.532189\n",
       "std        1.446046      1.214016\n",
       "min        0.000000     -0.075339\n",
       "25%        0.463734      0.921398\n",
       "50%        1.029619      1.141290\n",
       "75%        1.856298      1.547898\n",
       "max       19.336971     13.289938"
      ]
     },
     "execution_count": 13,
     "metadata": {},
     "output_type": "execute_result"
    }
   ],
   "source": [
    "en_df[['target', 'pred']].describe()"
   ]
  },
  {
   "cell_type": "code",
   "execution_count": 14,
   "id": "bdc82e31-0f27-43f9-97f5-c515feb11e8c",
   "metadata": {},
   "outputs": [
    {
     "data": {
      "text/html": [
       "<div>\n",
       "<style scoped>\n",
       "    .dataframe tbody tr th:only-of-type {\n",
       "        vertical-align: middle;\n",
       "    }\n",
       "\n",
       "    .dataframe tbody tr th {\n",
       "        vertical-align: top;\n",
       "    }\n",
       "\n",
       "    .dataframe thead th {\n",
       "        text-align: right;\n",
       "    }\n",
       "</style>\n",
       "<table border=\"1\" class=\"dataframe\">\n",
       "  <thead>\n",
       "    <tr style=\"text-align: right;\">\n",
       "      <th></th>\n",
       "      <th>real_rate</th>\n",
       "      <th>pred_rate</th>\n",
       "    </tr>\n",
       "  </thead>\n",
       "  <tbody>\n",
       "    <tr>\n",
       "      <th>count</th>\n",
       "      <td>13530.000000</td>\n",
       "      <td>13530.000000</td>\n",
       "    </tr>\n",
       "    <tr>\n",
       "      <th>mean</th>\n",
       "      <td>0.213703</td>\n",
       "      <td>0.325198</td>\n",
       "    </tr>\n",
       "    <tr>\n",
       "      <th>std</th>\n",
       "      <td>1.036265</td>\n",
       "      <td>0.956248</td>\n",
       "    </tr>\n",
       "    <tr>\n",
       "      <th>min</th>\n",
       "      <td>-18.044203</td>\n",
       "      <td>-16.984454</td>\n",
       "    </tr>\n",
       "    <tr>\n",
       "      <th>25%</th>\n",
       "      <td>-0.044068</td>\n",
       "      <td>-0.036571</td>\n",
       "    </tr>\n",
       "    <tr>\n",
       "      <th>50%</th>\n",
       "      <td>0.082541</td>\n",
       "      <td>0.376815</td>\n",
       "    </tr>\n",
       "    <tr>\n",
       "      <th>75%</th>\n",
       "      <td>0.303387</td>\n",
       "      <td>0.589546</td>\n",
       "    </tr>\n",
       "    <tr>\n",
       "      <th>max</th>\n",
       "      <td>18.749185</td>\n",
       "      <td>12.513864</td>\n",
       "    </tr>\n",
       "  </tbody>\n",
       "</table>\n",
       "</div>"
      ],
      "text/plain": [
       "          real_rate     pred_rate\n",
       "count  13530.000000  13530.000000\n",
       "mean       0.213703      0.325198\n",
       "std        1.036265      0.956248\n",
       "min      -18.044203    -16.984454\n",
       "25%       -0.044068     -0.036571\n",
       "50%        0.082541      0.376815\n",
       "75%        0.303387      0.589546\n",
       "max       18.749185     12.513864"
      ]
     },
     "execution_count": 14,
     "metadata": {},
     "output_type": "execute_result"
    }
   ],
   "source": [
    "en_df['real_rate'] = en_df['target'] - en_df['price_1'].apply(lambda x: np.log1p(x))\n",
    "en_df['pred_rate'] = en_df['pred'] - en_df['price_1'].apply(lambda x: np.log1p(x))\n",
    "en_df[['real_rate', 'pred_rate']].describe()"
   ]
  },
  {
   "cell_type": "code",
   "execution_count": 15,
   "id": "1b30daa1-ee27-4df4-9d4e-0c6ebb4c0661",
   "metadata": {},
   "outputs": [
    {
     "data": {
      "image/png": "[encoded data removed]",
      "text/plain": [
       "<Figure size 1152x576 with 1 Axes>"
      ]
     },
     "metadata": {
      "needs_background": "light"
     },
     "output_type": "display_data"
    }
   ],
   "source": [
    "plt.figure(figsize=(16, 8))\n",
    "plt.scatter(en_df['pred'], en_df['pred'] - en_df['target'])\n",
    "plt.title(\"residual plot(Light GBM)\")\n",
    "plt.grid(True)\n",
    "plt.show()"
   ]
  },
  {
   "cell_type": "code",
   "execution_count": 16,
   "id": "db764d96-993b-4006-8c72-25f5d6638d33",
   "metadata": {},
   "outputs": [
    {
     "data": {
      "image/png": "[encoded data removed]",
      "text/plain": [
       "<Figure size 1152x576 with 1 Axes>"
      ]
     },
     "metadata": {
      "needs_background": "light"
     },
     "output_type": "display_data"
    }
   ],
   "source": [
    "plt.figure(figsize=(16, 8))\n",
    "plt.scatter(en_df['pred_rate'], en_df['pred_rate'] - en_df['real_rate'])\n",
    "plt.title(\"rate residual plot(Light GBM)\")\n",
    "plt.grid(True)\n",
    "plt.show()"
   ]
  },
  {
   "cell_type": "code",
   "execution_count": 17,
   "id": "c7fba2a0-6051-4440-8d27-83f9df0d6819",
   "metadata": {},
   "outputs": [
    {
     "data": {
      "text/html": [
       "<div>\n",
       "<style scoped>\n",
       "    .dataframe tbody tr th:only-of-type {\n",
       "        vertical-align: middle;\n",
       "    }\n",
       "\n",
       "    .dataframe tbody tr th {\n",
       "        vertical-align: top;\n",
       "    }\n",
       "\n",
       "    .dataframe thead th {\n",
       "        text-align: right;\n",
       "    }\n",
       "</style>\n",
       "<table border=\"1\" class=\"dataframe\">\n",
       "  <thead>\n",
       "    <tr style=\"text-align: right;\">\n",
       "      <th></th>\n",
       "      <th>target</th>\n",
       "      <th>pred_linear</th>\n",
       "    </tr>\n",
       "  </thead>\n",
       "  <tbody>\n",
       "    <tr>\n",
       "      <th>count</th>\n",
       "      <td>13530.000000</td>\n",
       "      <td>13530.000000</td>\n",
       "    </tr>\n",
       "    <tr>\n",
       "      <th>mean</th>\n",
       "      <td>1.420694</td>\n",
       "      <td>1.421550</td>\n",
       "    </tr>\n",
       "    <tr>\n",
       "      <th>std</th>\n",
       "      <td>1.446046</td>\n",
       "      <td>1.652736</td>\n",
       "    </tr>\n",
       "    <tr>\n",
       "      <th>min</th>\n",
       "      <td>0.000000</td>\n",
       "      <td>-36.495402</td>\n",
       "    </tr>\n",
       "    <tr>\n",
       "      <th>25%</th>\n",
       "      <td>0.463734</td>\n",
       "      <td>0.416807</td>\n",
       "    </tr>\n",
       "    <tr>\n",
       "      <th>50%</th>\n",
       "      <td>1.029619</td>\n",
       "      <td>0.982735</td>\n",
       "    </tr>\n",
       "    <tr>\n",
       "      <th>75%</th>\n",
       "      <td>1.856298</td>\n",
       "      <td>1.886656</td>\n",
       "    </tr>\n",
       "    <tr>\n",
       "      <th>max</th>\n",
       "      <td>19.336971</td>\n",
       "      <td>87.904097</td>\n",
       "    </tr>\n",
       "  </tbody>\n",
       "</table>\n",
       "</div>"
      ],
      "text/plain": [
       "             target   pred_linear\n",
       "count  13530.000000  13530.000000\n",
       "mean       1.420694      1.421550\n",
       "std        1.446046      1.652736\n",
       "min        0.000000    -36.495402\n",
       "25%        0.463734      0.416807\n",
       "50%        1.029619      0.982735\n",
       "75%        1.856298      1.886656\n",
       "max       19.336971     87.904097"
      ]
     },
     "execution_count": 17,
     "metadata": {},
     "output_type": "execute_result"
    }
   ],
   "source": [
    "X = en_df[use_cols].values\n",
    "pred = np.zeros(len(X))\n",
    "for model in linear_models.values():\n",
    "    pred += model.predict(StandardScaler().fit_transform(X))\n",
    "\n",
    "en_df['pred_linear'] = pred / 4\n",
    "en_df['pred_rate_linear'] = en_df['pred_linear'] - en_df['price_1'].apply(lambda x: np.log1p(x))\n",
    "\n",
    "en_df[['target', 'pred_linear']].describe()"
   ]
  },
  {
   "cell_type": "code",
   "execution_count": 18,
   "id": "788cd87c-5ee0-497c-ac89-e012058bc615",
   "metadata": {},
   "outputs": [
    {
     "data": {
      "text/html": [
       "<div>\n",
       "<style scoped>\n",
       "    .dataframe tbody tr th:only-of-type {\n",
       "        vertical-align: middle;\n",
       "    }\n",
       "\n",
       "    .dataframe tbody tr th {\n",
       "        vertical-align: top;\n",
       "    }\n",
       "\n",
       "    .dataframe thead th {\n",
       "        text-align: right;\n",
       "    }\n",
       "</style>\n",
       "<table border=\"1\" class=\"dataframe\">\n",
       "  <thead>\n",
       "    <tr style=\"text-align: right;\">\n",
       "      <th></th>\n",
       "      <th>real_rate</th>\n",
       "      <th>pred_rate_linear</th>\n",
       "    </tr>\n",
       "  </thead>\n",
       "  <tbody>\n",
       "    <tr>\n",
       "      <th>count</th>\n",
       "      <td>13530.000000</td>\n",
       "      <td>13530.000000</td>\n",
       "    </tr>\n",
       "    <tr>\n",
       "      <th>mean</th>\n",
       "      <td>0.213703</td>\n",
       "      <td>0.214559</td>\n",
       "    </tr>\n",
       "    <tr>\n",
       "      <th>std</th>\n",
       "      <td>1.036265</td>\n",
       "      <td>1.201181</td>\n",
       "    </tr>\n",
       "    <tr>\n",
       "      <th>min</th>\n",
       "      <td>-18.044203</td>\n",
       "      <td>-36.907512</td>\n",
       "    </tr>\n",
       "    <tr>\n",
       "      <th>25%</th>\n",
       "      <td>-0.044068</td>\n",
       "      <td>-0.099254</td>\n",
       "    </tr>\n",
       "    <tr>\n",
       "      <th>50%</th>\n",
       "      <td>0.082541</td>\n",
       "      <td>0.095192</td>\n",
       "    </tr>\n",
       "    <tr>\n",
       "      <th>75%</th>\n",
       "      <td>0.303387</td>\n",
       "      <td>0.366090</td>\n",
       "    </tr>\n",
       "    <tr>\n",
       "      <th>max</th>\n",
       "      <td>18.749185</td>\n",
       "      <td>83.641418</td>\n",
       "    </tr>\n",
       "  </tbody>\n",
       "</table>\n",
       "</div>"
      ],
      "text/plain": [
       "          real_rate  pred_rate_linear\n",
       "count  13530.000000      13530.000000\n",
       "mean       0.213703          0.214559\n",
       "std        1.036265          1.201181\n",
       "min      -18.044203        -36.907512\n",
       "25%       -0.044068         -0.099254\n",
       "50%        0.082541          0.095192\n",
       "75%        0.303387          0.366090\n",
       "max       18.749185         83.641418"
      ]
     },
     "execution_count": 18,
     "metadata": {},
     "output_type": "execute_result"
    }
   ],
   "source": [
    "en_df[['real_rate', 'pred_rate_linear']].describe()"
   ]
  },
  {
   "cell_type": "code",
   "execution_count": 19,
   "id": "6407c88d-e147-45bc-bf80-e503280e312a",
   "metadata": {},
   "outputs": [
    {
     "data": {
      "image/png": "[encoded data removed]",
      "text/plain": [
       "<Figure size 1152x576 with 1 Axes>"
      ]
     },
     "metadata": {
      "needs_background": "light"
     },
     "output_type": "display_data"
    }
   ],
   "source": [
    "plt.figure(figsize=(16, 8))\n",
    "plt.scatter(en_df['pred_linear']*0.038 + en_df['pred']*0.962, en_df['pred_linear']*0.038 + en_df['pred']*0.962- en_df['target'])\n",
    "plt.grid(True)\n",
    "plt.title(\"redisual plot(linear + Light GBM)\")\n",
    "plt.show()"
   ]
  },
  {
   "cell_type": "code",
   "execution_count": 20,
   "id": "a26d3e10-6d19-4b55-afc1-f977a972cd3a",
   "metadata": {},
   "outputs": [
    {
     "data": {
      "image/png": "[encoded data removed]",
      "text/plain": [
       "<Figure size 1152x576 with 1 Axes>"
      ]
     },
     "metadata": {
      "needs_background": "light"
     },
     "output_type": "display_data"
    }
   ],
   "source": [
    "plt.figure(figsize=(16, 8))\n",
    "plt.scatter(en_df['pred_linear'], en_df['pred_linear'] - en_df['target'])\n",
    "plt.grid(True)\n",
    "plt.title(\"redisual plot(linear)\")\n",
    "plt.show()"
   ]
  },
  {
   "cell_type": "code",
   "execution_count": 21,
   "id": "8cd9c995-ea1d-47c3-9a2e-36aa5780e950",
   "metadata": {},
   "outputs": [
    {
     "data": {
      "image/png": "[encoded data removed]",
      "text/plain": [
       "<Figure size 1152x576 with 1 Axes>"
      ]
     },
     "metadata": {
      "needs_background": "light"
     },
     "output_type": "display_data"
    }
   ],
   "source": [
    "plt.figure(figsize=(16, 8))\n",
    "plt.scatter(en_df['pred_rate_linear'], en_df['pred_rate_linear'] - en_df['real_rate'])\n",
    "plt.grid(True)\n",
    "plt.title(\"rate redisual plot(linear)\")\n",
    "plt.show()"
   ]
  },
  {
   "cell_type": "code",
   "execution_count": 22,
   "id": "d78160f7-e473-4f10-bd72-123cee3c425d",
   "metadata": {},
   "outputs": [],
   "source": [
    "def create_meta_nn(input_dim: int = 129, output_dim: int = 1):\n",
    "    inputs = layers.Input(shape=(input_dim))\n",
    "    dense1 = layers.Dense(64, activation=None)(inputs)\n",
    "    activation1 = layers.Activation(activations.gelu)(dense1)\n",
    "    dr1 = layers.Dropout(0.5)(activation1)\n",
    "    dense2 = layers.Dense(16, activation=None)(dr1)\n",
    "    activation2 = layers.Activation(activations.gelu)(dense2)\n",
    "    dr2 = layers.Dropout(0.3)(activation2)\n",
    "    outputs = layers.Dense(1)(dr2)\n",
    "\n",
    "    model = models.Model(inputs=[inputs], outputs=[outputs])\n",
    "    model.compile(loss=losses.mean_squared_error, optimizer=optim.Adam())\n",
    "    return model"
   ]
  },
  {
   "cell_type": "code",
   "execution_count": 23,
   "id": "c7c19ea7-9679-4e01-9d42-2daf53b8c0db",
   "metadata": {},
   "outputs": [
    {
     "name": "stdout",
     "output_type": "stream",
     "text": [
      "Model: \"model_1\"\n",
      "_________________________________________________________________\n",
      "Layer (type)                 Output Shape              Param #   \n",
      "=================================================================\n",
      "input_2 (InputLayer)         [(None, 129)]             0         \n",
      "_________________________________________________________________\n",
      "dense_1 (Dense)              (None, 64)                8320      \n",
      "_________________________________________________________________\n",
      "activation (Activation)      (None, 64)                0         \n",
      "_________________________________________________________________\n",
      "dropout (Dropout)            (None, 64)                0         \n",
      "_________________________________________________________________\n",
      "dense_2 (Dense)              (None, 16)                1040      \n",
      "_________________________________________________________________\n",
      "activation_1 (Activation)    (None, 16)                0         \n",
      "_________________________________________________________________\n",
      "dropout_1 (Dropout)          (None, 16)                0         \n",
      "_________________________________________________________________\n",
      "dense_3 (Dense)              (None, 1)                 17        \n",
      "=================================================================\n",
      "Total params: 9,377\n",
      "Trainable params: 9,377\n",
      "Non-trainable params: 0\n",
      "_________________________________________________________________\n"
     ]
    }
   ],
   "source": [
    "meta_nn = create_meta_nn()\n",
    "meta_nn.summary()"
   ]
  },
  {
   "cell_type": "code",
   "execution_count": 24,
   "id": "9640e5a7-62c6-42c1-8318-e2ef81edd266",
   "metadata": {},
   "outputs": [],
   "source": [
    "def eval_nn(df, features, target):\n",
    "    kf = StratifiedKFold(n_splits=4, random_state=6174, shuffle=True)\n",
    "    rmse_scores = np.array([])\n",
    "    mae_scores = np.array([])\n",
    "    model_no = 0\n",
    "    models = {}\n",
    "\n",
    "    for train_idx, val_idx in kf.split(df, df['collection.name'].values):\n",
    "        train_df, val_df = df.iloc[train_idx], df.iloc[val_idx]\n",
    "\n",
    "        enc = train_df.groupby(['collection.name'])['target'].mean()\n",
    "        train_df['target_encoding'] = train_df['collection.name'].map(enc)\n",
    "        val_df['target_encoding'] = val_df['collection.name'].map(enc)\n",
    "\n",
    "        train_X, val_X = train_df[features].values, val_df[features].values\n",
    "        train_y, val_y = train_df[target].values, val_df[target].values\n",
    "\n",
    "        model = create_meta_nn()\n",
    "        model.fit(train_X, train_y, epochs=50, batch_size=64, validation_data=(val_X, val_y))\n",
    "        pred = model.predict(val_X)\n",
    "        rmse = np.sqrt(mean_squared_error(val_y, pred))\n",
    "        mae = mean_absolute_error(val_y, pred)\n",
    "\n",
    "        rmse_scores = np.append(rmse_scores, rmse)\n",
    "        mae_scores = np.append(mae_scores, mae)\n",
    "\n",
    "        models[f\"model_{model_no}\"] = model\n",
    "        model_no += 1\n",
    "\n",
    "    print(\"Use model: Neural Network\")\n",
    "    print(f\"RMSE Score: {rmse_scores.mean()}\")\n",
    "    print(f\"MAE Score: {mae_scores.mean()}\")\n",
    "\n",
    "    return models"
   ]
  },
  {
   "cell_type": "code",
   "execution_count": 25,
   "id": "5f0013cc-1526-4d89-9c29-1314f70c0a26",
   "metadata": {
    "collapsed": true,
    "jupyter": {
     "outputs_hidden": true
    },
    "tags": []
   },
   "outputs": [
    {
     "name": "stdout",
     "output_type": "stream",
     "text": [
      "Epoch 1/50\n",
      "159/159 [==============================] - 0s 1ms/step - loss: 1.0322 - val_loss: 0.6690\n",
      "Epoch 2/50\n",
      "159/159 [==============================] - 0s 983us/step - loss: 0.7626 - val_loss: 0.6312\n",
      "Epoch 3/50\n",
      "159/159 [==============================] - 0s 1ms/step - loss: 0.7251 - val_loss: 0.6068\n",
      "Epoch 4/50\n",
      "159/159 [==============================] - 0s 961us/step - loss: 0.6393 - val_loss: 0.5987\n",
      "Epoch 5/50\n",
      "159/159 [==============================] - 0s 941us/step - loss: 0.6184 - val_loss: 0.5796\n",
      "Epoch 6/50\n",
      "159/159 [==============================] - 0s 956us/step - loss: 0.5861 - val_loss: 0.5825\n",
      "Epoch 7/50\n",
      "159/159 [==============================] - 0s 920us/step - loss: 0.5781 - val_loss: 0.5831\n",
      "Epoch 8/50\n",
      "159/159 [==============================] - 0s 906us/step - loss: 0.5971 - val_loss: 0.6145\n",
      "Epoch 9/50\n",
      "159/159 [==============================] - 0s 909us/step - loss: 0.5583 - val_loss: 0.5980\n",
      "Epoch 10/50\n",
      "159/159 [==============================] - 0s 900us/step - loss: 0.5600 - val_loss: 0.5771\n",
      "Epoch 11/50\n",
      "159/159 [==============================] - 0s 900us/step - loss: 0.5500 - val_loss: 0.5898\n",
      "Epoch 12/50\n",
      "159/159 [==============================] - 0s 898us/step - loss: 0.5539 - val_loss: 0.6112\n",
      "Epoch 13/50\n",
      "159/159 [==============================] - 0s 901us/step - loss: 0.5159 - val_loss: 0.6132\n",
      "Epoch 14/50\n",
      "159/159 [==============================] - 0s 963us/step - loss: 0.5655 - val_loss: 0.5854\n",
      "Epoch 15/50\n",
      "159/159 [==============================] - 0s 980us/step - loss: 0.5177 - val_loss: 0.5757\n",
      "Epoch 16/50\n",
      "159/159 [==============================] - 0s 991us/step - loss: 0.5281 - val_loss: 0.5831\n",
      "Epoch 17/50\n",
      "159/159 [==============================] - 0s 966us/step - loss: 0.5365 - val_loss: 0.5667\n",
      "Epoch 18/50\n",
      "159/159 [==============================] - 0s 974us/step - loss: 0.5222 - val_loss: 0.5922\n",
      "Epoch 19/50\n",
      "159/159 [==============================] - 0s 949us/step - loss: 0.5014 - val_loss: 0.5757\n",
      "Epoch 20/50\n",
      "159/159 [==============================] - 0s 935us/step - loss: 0.5129 - val_loss: 0.5882\n",
      "Epoch 21/50\n",
      "159/159 [==============================] - 0s 913us/step - loss: 0.5182 - val_loss: 0.5675\n",
      "Epoch 22/50\n",
      "159/159 [==============================] - 0s 908us/step - loss: 0.4932 - val_loss: 0.5792\n",
      "Epoch 23/50\n",
      "159/159 [==============================] - 0s 902us/step - loss: 0.5051 - val_loss: 0.5832\n",
      "Epoch 24/50\n",
      "159/159 [==============================] - 0s 890us/step - loss: 0.4933 - val_loss: 0.5624\n",
      "Epoch 25/50\n",
      "159/159 [==============================] - 0s 965us/step - loss: 0.4894 - val_loss: 0.5653\n",
      "Epoch 26/50\n",
      "159/159 [==============================] - 0s 943us/step - loss: 0.4971 - val_loss: 0.5731\n",
      "Epoch 27/50\n",
      "159/159 [==============================] - 0s 915us/step - loss: 0.4903 - val_loss: 0.5620\n",
      "Epoch 28/50\n",
      "159/159 [==============================] - 0s 913us/step - loss: 0.4848 - val_loss: 0.5679\n",
      "Epoch 29/50\n",
      "159/159 [==============================] - 0s 924us/step - loss: 0.4974 - val_loss: 0.5779\n",
      "Epoch 30/50\n",
      "159/159 [==============================] - 0s 945us/step - loss: 0.4786 - val_loss: 0.5647\n",
      "Epoch 31/50\n",
      "159/159 [==============================] - 0s 928us/step - loss: 0.4871 - val_loss: 0.5665\n",
      "Epoch 32/50\n",
      "159/159 [==============================] - 0s 932us/step - loss: 0.4707 - val_loss: 0.6183\n",
      "Epoch 33/50\n",
      "159/159 [==============================] - 0s 918us/step - loss: 0.5004 - val_loss: 0.5709\n",
      "Epoch 34/50\n",
      "159/159 [==============================] - 0s 920us/step - loss: 0.4961 - val_loss: 0.5714\n",
      "Epoch 35/50\n",
      "159/159 [==============================] - 0s 919us/step - loss: 0.4718 - val_loss: 0.5738\n",
      "Epoch 36/50\n",
      "159/159 [==============================] - 0s 922us/step - loss: 0.4692 - val_loss: 0.5626\n",
      "Epoch 37/50\n",
      "159/159 [==============================] - 0s 926us/step - loss: 0.4738 - val_loss: 0.5685\n",
      "Epoch 38/50\n",
      "159/159 [==============================] - 0s 930us/step - loss: 0.4705 - val_loss: 0.5837\n",
      "Epoch 39/50\n",
      "159/159 [==============================] - 0s 919us/step - loss: 0.4803 - val_loss: 0.5753\n",
      "Epoch 40/50\n",
      "159/159 [==============================] - 0s 925us/step - loss: 0.4839 - val_loss: 0.5688\n",
      "Epoch 41/50\n",
      "159/159 [==============================] - 0s 916us/step - loss: 0.4718 - val_loss: 0.5701\n",
      "Epoch 42/50\n",
      "159/159 [==============================] - 0s 923us/step - loss: 0.4795 - val_loss: 0.6271\n",
      "Epoch 43/50\n",
      "159/159 [==============================] - 0s 921us/step - loss: 0.4518 - val_loss: 0.5590\n",
      "Epoch 44/50\n",
      "159/159 [==============================] - 0s 934us/step - loss: 0.4606 - val_loss: 0.5634\n",
      "Epoch 45/50\n",
      "159/159 [==============================] - 0s 941us/step - loss: 0.4731 - val_loss: 0.5544\n",
      "Epoch 46/50\n",
      "159/159 [==============================] - 0s 962us/step - loss: 0.4550 - val_loss: 0.5892\n",
      "Epoch 47/50\n",
      "159/159 [==============================] - 0s 930us/step - loss: 0.4764 - val_loss: 0.5602\n",
      "Epoch 48/50\n",
      "159/159 [==============================] - 0s 919us/step - loss: 0.4738 - val_loss: 0.5772\n",
      "Epoch 49/50\n",
      "159/159 [==============================] - 0s 909us/step - loss: 0.4716 - val_loss: 0.5680\n",
      "Epoch 50/50\n",
      "159/159 [==============================] - 0s 912us/step - loss: 0.4618 - val_loss: 0.5546\n",
      "Epoch 1/50\n",
      "159/159 [==============================] - 0s 1ms/step - loss: 1.1792 - val_loss: 0.3677\n",
      "Epoch 2/50\n",
      "159/159 [==============================] - 0s 922us/step - loss: 0.8457 - val_loss: 0.3827\n",
      "Epoch 3/50\n",
      "159/159 [==============================] - 0s 910us/step - loss: 0.7832 - val_loss: 0.3613\n",
      "Epoch 4/50\n",
      "159/159 [==============================] - 0s 907us/step - loss: 0.7115 - val_loss: 0.3548\n",
      "Epoch 5/50\n",
      "159/159 [==============================] - 0s 901us/step - loss: 0.6983 - val_loss: 0.3722\n",
      "Epoch 6/50\n",
      "159/159 [==============================] - 0s 934us/step - loss: 0.6904 - val_loss: 0.3565\n",
      "Epoch 7/50\n",
      "159/159 [==============================] - 0s 915us/step - loss: 0.6782 - val_loss: 0.3384\n",
      "Epoch 8/50\n",
      "159/159 [==============================] - 0s 941us/step - loss: 0.6782 - val_loss: 0.3886\n",
      "Epoch 9/50\n",
      "159/159 [==============================] - 0s 879us/step - loss: 0.6547 - val_loss: 0.3562\n",
      "Epoch 10/50\n",
      "159/159 [==============================] - 0s 886us/step - loss: 0.6790 - val_loss: 0.3356\n",
      "Epoch 11/50\n",
      "159/159 [==============================] - 0s 885us/step - loss: 0.6385 - val_loss: 0.3496\n",
      "Epoch 12/50\n",
      "159/159 [==============================] - 0s 861us/step - loss: 0.6138 - val_loss: 0.3674\n",
      "Epoch 13/50\n",
      "159/159 [==============================] - 0s 876us/step - loss: 0.6151 - val_loss: 0.3406\n",
      "Epoch 14/50\n",
      "159/159 [==============================] - 0s 870us/step - loss: 0.6015 - val_loss: 0.3391\n",
      "Epoch 15/50\n",
      "159/159 [==============================] - 0s 869us/step - loss: 0.6023 - val_loss: 0.3780\n",
      "Epoch 16/50\n",
      "159/159 [==============================] - 0s 864us/step - loss: 0.6016 - val_loss: 0.3363\n",
      "Epoch 17/50\n",
      "159/159 [==============================] - 0s 910us/step - loss: 0.5926 - val_loss: 0.3321\n",
      "Epoch 18/50\n",
      "159/159 [==============================] - 0s 978us/step - loss: 0.6083 - val_loss: 0.3305\n",
      "Epoch 19/50\n",
      "159/159 [==============================] - 0s 883us/step - loss: 0.5837 - val_loss: 0.3432\n",
      "Epoch 20/50\n",
      "159/159 [==============================] - 0s 950us/step - loss: 0.5784 - val_loss: 0.3515\n",
      "Epoch 21/50\n",
      "159/159 [==============================] - 0s 901us/step - loss: 0.5857 - val_loss: 0.3279\n",
      "Epoch 22/50\n",
      "159/159 [==============================] - 0s 941us/step - loss: 0.5769 - val_loss: 0.3670\n",
      "Epoch 23/50\n",
      "159/159 [==============================] - 0s 972us/step - loss: 0.5913 - val_loss: 0.3285\n",
      "Epoch 24/50\n",
      "159/159 [==============================] - 0s 943us/step - loss: 0.5669 - val_loss: 0.3329\n",
      "Epoch 25/50\n",
      "159/159 [==============================] - 0s 889us/step - loss: 0.5735 - val_loss: 0.3299\n",
      "Epoch 26/50\n",
      "159/159 [==============================] - 0s 870us/step - loss: 0.5779 - val_loss: 0.3291\n",
      "Epoch 27/50\n",
      "159/159 [==============================] - 0s 939us/step - loss: 0.5633 - val_loss: 0.3369\n",
      "Epoch 28/50\n",
      "159/159 [==============================] - 0s 934us/step - loss: 0.5513 - val_loss: 0.3241\n",
      "Epoch 29/50\n",
      "159/159 [==============================] - 0s 948us/step - loss: 0.5764 - val_loss: 0.3369\n",
      "Epoch 30/50\n",
      "159/159 [==============================] - 0s 885us/step - loss: 0.5603 - val_loss: 0.3348\n",
      "Epoch 31/50\n",
      "159/159 [==============================] - 0s 951us/step - loss: 0.5552 - val_loss: 0.3266\n",
      "Epoch 32/50\n",
      "159/159 [==============================] - 0s 933us/step - loss: 0.5456 - val_loss: 0.3534\n",
      "Epoch 33/50\n",
      "159/159 [==============================] - 0s 882us/step - loss: 0.5723 - val_loss: 0.3304\n",
      "Epoch 34/50\n",
      "159/159 [==============================] - 0s 864us/step - loss: 0.5648 - val_loss: 0.3459\n",
      "Epoch 35/50\n",
      "159/159 [==============================] - 0s 913us/step - loss: 0.5561 - val_loss: 0.3335\n",
      "Epoch 36/50\n",
      "159/159 [==============================] - 0s 951us/step - loss: 0.5620 - val_loss: 0.3367\n",
      "Epoch 37/50\n",
      "159/159 [==============================] - 0s 929us/step - loss: 0.5449 - val_loss: 0.3380\n",
      "Epoch 38/50\n",
      "159/159 [==============================] - 0s 934us/step - loss: 0.5561 - val_loss: 0.3530\n",
      "Epoch 39/50\n",
      "159/159 [==============================] - 0s 923us/step - loss: 0.5513 - val_loss: 0.3235\n",
      "Epoch 40/50\n",
      "159/159 [==============================] - 0s 923us/step - loss: 0.5410 - val_loss: 0.3235\n",
      "Epoch 41/50\n",
      "159/159 [==============================] - 0s 1ms/step - loss: 0.5657 - val_loss: 0.3226\n",
      "Epoch 42/50\n",
      "159/159 [==============================] - 0s 1ms/step - loss: 0.5631 - val_loss: 0.3214\n",
      "Epoch 43/50\n",
      "159/159 [==============================] - 0s 956us/step - loss: 0.5490 - val_loss: 0.3390\n",
      "Epoch 44/50\n",
      "159/159 [==============================] - 0s 938us/step - loss: 0.5551 - val_loss: 0.3235\n",
      "Epoch 45/50\n",
      "159/159 [==============================] - 0s 890us/step - loss: 0.5585 - val_loss: 0.3339\n",
      "Epoch 46/50\n",
      "159/159 [==============================] - 0s 919us/step - loss: 0.5376 - val_loss: 0.3276\n",
      "Epoch 47/50\n",
      "159/159 [==============================] - 0s 880us/step - loss: 0.5424 - val_loss: 0.3392\n",
      "Epoch 48/50\n",
      "159/159 [==============================] - 0s 866us/step - loss: 0.5449 - val_loss: 0.3513\n",
      "Epoch 49/50\n",
      "159/159 [==============================] - 0s 865us/step - loss: 0.5423 - val_loss: 0.3452\n",
      "Epoch 50/50\n",
      "159/159 [==============================] - 0s 911us/step - loss: 0.5580 - val_loss: 0.3269\n",
      "Epoch 1/50\n",
      "159/159 [==============================] - 0s 1ms/step - loss: 1.0075 - val_loss: 0.6878\n",
      "Epoch 2/50\n",
      "159/159 [==============================] - 0s 910us/step - loss: 0.7673 - val_loss: 0.7003\n",
      "Epoch 3/50\n",
      "159/159 [==============================] - 0s 870us/step - loss: 0.6787 - val_loss: 0.6038\n",
      "Epoch 4/50\n",
      "159/159 [==============================] - 0s 891us/step - loss: 0.6508 - val_loss: 0.6395\n",
      "Epoch 5/50\n",
      "159/159 [==============================] - 0s 916us/step - loss: 0.6342 - val_loss: 0.5630\n",
      "Epoch 6/50\n",
      "159/159 [==============================] - 0s 903us/step - loss: 0.5773 - val_loss: 0.5749\n",
      "Epoch 7/50\n",
      "159/159 [==============================] - 0s 873us/step - loss: 0.6075 - val_loss: 0.5656\n",
      "Epoch 8/50\n",
      "159/159 [==============================] - 0s 912us/step - loss: 0.5959 - val_loss: 0.5747\n",
      "Epoch 9/50\n",
      "159/159 [==============================] - 0s 897us/step - loss: 0.5870 - val_loss: 0.5788\n",
      "Epoch 10/50\n",
      "159/159 [==============================] - 0s 859us/step - loss: 0.5492 - val_loss: 0.5352\n",
      "Epoch 11/50\n",
      "159/159 [==============================] - 0s 860us/step - loss: 0.5590 - val_loss: 0.5832\n",
      "Epoch 12/50\n",
      "159/159 [==============================] - 0s 861us/step - loss: 0.5391 - val_loss: 0.5342\n",
      "Epoch 13/50\n",
      "159/159 [==============================] - 0s 897us/step - loss: 0.5468 - val_loss: 0.5476\n",
      "Epoch 14/50\n",
      "159/159 [==============================] - 0s 984us/step - loss: 0.5305 - val_loss: 0.5695\n",
      "Epoch 15/50\n",
      "159/159 [==============================] - 0s 861us/step - loss: 0.5537 - val_loss: 0.5336\n",
      "Epoch 16/50\n",
      "159/159 [==============================] - 0s 916us/step - loss: 0.5054 - val_loss: 0.5352\n",
      "Epoch 17/50\n",
      "159/159 [==============================] - 0s 973us/step - loss: 0.5236 - val_loss: 0.5272\n",
      "Epoch 18/50\n",
      "159/159 [==============================] - 0s 937us/step - loss: 0.5138 - val_loss: 0.5389\n",
      "Epoch 19/50\n",
      "159/159 [==============================] - 0s 873us/step - loss: 0.5165 - val_loss: 0.5857\n",
      "Epoch 20/50\n",
      "159/159 [==============================] - 0s 880us/step - loss: 0.5082 - val_loss: 0.5242\n",
      "Epoch 21/50\n",
      "159/159 [==============================] - 0s 893us/step - loss: 0.4916 - val_loss: 0.5282\n",
      "Epoch 22/50\n",
      "159/159 [==============================] - 0s 876us/step - loss: 0.5069 - val_loss: 0.5506\n",
      "Epoch 23/50\n",
      "159/159 [==============================] - 0s 861us/step - loss: 0.5100 - val_loss: 0.5223\n",
      "Epoch 24/50\n",
      "159/159 [==============================] - 0s 879us/step - loss: 0.4762 - val_loss: 0.5665\n",
      "Epoch 25/50\n",
      "159/159 [==============================] - 0s 865us/step - loss: 0.5213 - val_loss: 0.5414\n",
      "Epoch 26/50\n",
      "159/159 [==============================] - 0s 912us/step - loss: 0.4985 - val_loss: 0.5535\n",
      "Epoch 27/50\n",
      "159/159 [==============================] - 0s 863us/step - loss: 0.4950 - val_loss: 0.5221\n",
      "Epoch 28/50\n",
      "159/159 [==============================] - 0s 868us/step - loss: 0.4981 - val_loss: 0.5362\n",
      "Epoch 29/50\n",
      "159/159 [==============================] - 0s 987us/step - loss: 0.4869 - val_loss: 0.5549\n",
      "Epoch 30/50\n",
      "159/159 [==============================] - 0s 899us/step - loss: 0.4921 - val_loss: 0.5224\n",
      "Epoch 31/50\n",
      "159/159 [==============================] - 0s 963us/step - loss: 0.4988 - val_loss: 0.5299\n",
      "Epoch 32/50\n",
      "159/159 [==============================] - 0s 1ms/step - loss: 0.4780 - val_loss: 0.5338\n",
      "Epoch 33/50\n",
      "159/159 [==============================] - 0s 924us/step - loss: 0.5024 - val_loss: 0.5190\n",
      "Epoch 34/50\n",
      "159/159 [==============================] - 0s 1ms/step - loss: 0.4914 - val_loss: 0.5363\n",
      "Epoch 35/50\n",
      "159/159 [==============================] - 0s 1ms/step - loss: 0.5135 - val_loss: 0.5208\n",
      "Epoch 36/50\n",
      "159/159 [==============================] - 0s 1ms/step - loss: 0.4814 - val_loss: 0.5322\n",
      "Epoch 37/50\n",
      "159/159 [==============================] - 0s 958us/step - loss: 0.4949 - val_loss: 0.5167\n",
      "Epoch 38/50\n",
      "159/159 [==============================] - 0s 1ms/step - loss: 0.4764 - val_loss: 0.5143\n",
      "Epoch 39/50\n",
      "159/159 [==============================] - 0s 991us/step - loss: 0.5122 - val_loss: 0.5165\n",
      "Epoch 40/50\n",
      "159/159 [==============================] - 0s 872us/step - loss: 0.4947 - val_loss: 0.5494\n",
      "Epoch 41/50\n",
      "159/159 [==============================] - 0s 917us/step - loss: 0.5017 - val_loss: 0.5227\n",
      "Epoch 42/50\n",
      "159/159 [==============================] - 0s 950us/step - loss: 0.4731 - val_loss: 0.5208\n",
      "Epoch 43/50\n",
      "159/159 [==============================] - 0s 888us/step - loss: 0.4841 - val_loss: 0.5247\n",
      "Epoch 44/50\n",
      "159/159 [==============================] - 0s 942us/step - loss: 0.5009 - val_loss: 0.5261\n",
      "Epoch 45/50\n",
      "159/159 [==============================] - 0s 914us/step - loss: 0.4695 - val_loss: 0.5286\n",
      "Epoch 46/50\n",
      "159/159 [==============================] - 0s 882us/step - loss: 0.4681 - val_loss: 0.5139\n",
      "Epoch 47/50\n",
      "159/159 [==============================] - 0s 891us/step - loss: 0.4755 - val_loss: 0.5178\n",
      "Epoch 48/50\n",
      "159/159 [==============================] - 0s 949us/step - loss: 0.4862 - val_loss: 0.5176\n",
      "Epoch 49/50\n",
      "159/159 [==============================] - 0s 957us/step - loss: 0.4717 - val_loss: 0.5315\n",
      "Epoch 50/50\n",
      "159/159 [==============================] - 0s 988us/step - loss: 0.4843 - val_loss: 0.5494\n",
      "Epoch 1/50\n",
      "159/159 [==============================] - 0s 1ms/step - loss: 1.4133 - val_loss: 0.4074\n",
      "Epoch 2/50\n",
      "159/159 [==============================] - 0s 918us/step - loss: 0.8554 - val_loss: 0.4524\n",
      "Epoch 3/50\n",
      "159/159 [==============================] - 0s 867us/step - loss: 0.7758 - val_loss: 0.3536\n",
      "Epoch 4/50\n",
      "159/159 [==============================] - 0s 868us/step - loss: 0.7392 - val_loss: 0.3406\n",
      "Epoch 5/50\n",
      "159/159 [==============================] - 0s 872us/step - loss: 0.7593 - val_loss: 0.4092\n",
      "Epoch 6/50\n",
      "159/159 [==============================] - 0s 861us/step - loss: 0.7251 - val_loss: 0.3648\n",
      "Epoch 7/50\n",
      "159/159 [==============================] - 0s 878us/step - loss: 0.6638 - val_loss: 0.3371\n",
      "Epoch 8/50\n",
      "159/159 [==============================] - 0s 899us/step - loss: 0.6572 - val_loss: 0.3259\n",
      "Epoch 9/50\n",
      "159/159 [==============================] - 0s 931us/step - loss: 0.6659 - val_loss: 0.3249\n",
      "Epoch 10/50\n",
      "159/159 [==============================] - 0s 938us/step - loss: 0.6324 - val_loss: 0.3273\n",
      "Epoch 11/50\n",
      "159/159 [==============================] - 0s 923us/step - loss: 0.6408 - val_loss: 0.3355\n",
      "Epoch 12/50\n",
      "159/159 [==============================] - 0s 929us/step - loss: 0.6359 - val_loss: 0.3276\n",
      "Epoch 13/50\n",
      "159/159 [==============================] - 0s 977us/step - loss: 0.5783 - val_loss: 0.3220\n",
      "Epoch 14/50\n",
      "159/159 [==============================] - 0s 935us/step - loss: 0.6273 - val_loss: 0.3382\n",
      "Epoch 15/50\n",
      "159/159 [==============================] - 0s 929us/step - loss: 0.5991 - val_loss: 0.3276\n",
      "Epoch 16/50\n",
      "159/159 [==============================] - 0s 856us/step - loss: 0.6084 - val_loss: 0.3340\n",
      "Epoch 17/50\n",
      "159/159 [==============================] - 0s 871us/step - loss: 0.6071 - val_loss: 0.3284\n",
      "Epoch 18/50\n",
      "159/159 [==============================] - 0s 865us/step - loss: 0.5936 - val_loss: 0.3364\n",
      "Epoch 19/50\n",
      "159/159 [==============================] - 0s 870us/step - loss: 0.5944 - val_loss: 0.3202\n",
      "Epoch 20/50\n",
      "159/159 [==============================] - 0s 868us/step - loss: 0.5699 - val_loss: 0.3258\n",
      "Epoch 21/50\n",
      "159/159 [==============================] - 0s 865us/step - loss: 0.5737 - val_loss: 0.3280\n",
      "Epoch 22/50\n",
      "159/159 [==============================] - 0s 868us/step - loss: 0.5812 - val_loss: 0.3241\n",
      "Epoch 23/50\n",
      "159/159 [==============================] - 0s 859us/step - loss: 0.5949 - val_loss: 0.3199\n",
      "Epoch 24/50\n",
      "159/159 [==============================] - 0s 865us/step - loss: 0.5752 - val_loss: 0.3214\n",
      "Epoch 25/50\n",
      "159/159 [==============================] - 0s 864us/step - loss: 0.5852 - val_loss: 0.3250\n",
      "Epoch 26/50\n",
      "159/159 [==============================] - 0s 869us/step - loss: 0.5655 - val_loss: 0.3154\n",
      "Epoch 27/50\n",
      "159/159 [==============================] - 0s 868us/step - loss: 0.5677 - val_loss: 0.3192\n",
      "Epoch 28/50\n",
      "159/159 [==============================] - 0s 868us/step - loss: 0.5618 - val_loss: 0.3284\n",
      "Epoch 29/50\n",
      "159/159 [==============================] - 0s 859us/step - loss: 0.5588 - val_loss: 0.3158\n",
      "Epoch 30/50\n",
      "159/159 [==============================] - 0s 868us/step - loss: 0.5727 - val_loss: 0.3141\n",
      "Epoch 31/50\n",
      "159/159 [==============================] - 0s 874us/step - loss: 0.5604 - val_loss: 0.3342\n",
      "Epoch 32/50\n",
      "159/159 [==============================] - 0s 862us/step - loss: 0.5478 - val_loss: 0.3206\n",
      "Epoch 33/50\n",
      "159/159 [==============================] - 0s 858us/step - loss: 0.5610 - val_loss: 0.3296\n",
      "Epoch 34/50\n",
      "159/159 [==============================] - 0s 866us/step - loss: 0.5619 - val_loss: 0.3488\n",
      "Epoch 35/50\n",
      "159/159 [==============================] - 0s 869us/step - loss: 0.5628 - val_loss: 0.3124\n",
      "Epoch 36/50\n",
      "159/159 [==============================] - 0s 857us/step - loss: 0.5672 - val_loss: 0.3277\n",
      "Epoch 37/50\n",
      "159/159 [==============================] - 0s 878us/step - loss: 0.5486 - val_loss: 0.3615\n",
      "Epoch 38/50\n",
      "159/159 [==============================] - 0s 889us/step - loss: 0.5483 - val_loss: 0.3151\n",
      "Epoch 39/50\n",
      "159/159 [==============================] - 0s 857us/step - loss: 0.5435 - val_loss: 0.3273\n",
      "Epoch 40/50\n",
      "159/159 [==============================] - 0s 901us/step - loss: 0.5597 - val_loss: 0.3187\n",
      "Epoch 41/50\n",
      "159/159 [==============================] - 0s 881us/step - loss: 0.5506 - val_loss: 0.3256\n",
      "Epoch 42/50\n",
      "159/159 [==============================] - 0s 858us/step - loss: 0.5331 - val_loss: 0.3324\n",
      "Epoch 43/50\n",
      "159/159 [==============================] - 0s 847us/step - loss: 0.5508 - val_loss: 0.3237\n",
      "Epoch 44/50\n",
      "159/159 [==============================] - 0s 869us/step - loss: 0.5491 - val_loss: 0.3158\n",
      "Epoch 45/50\n",
      "159/159 [==============================] - 0s 889us/step - loss: 0.5543 - val_loss: 0.3205\n",
      "Epoch 46/50\n",
      "159/159 [==============================] - 0s 866us/step - loss: 0.5561 - val_loss: 0.3222\n",
      "Epoch 47/50\n",
      "159/159 [==============================] - 0s 870us/step - loss: 0.5439 - val_loss: 0.3150\n",
      "Epoch 48/50\n",
      "159/159 [==============================] - 0s 869us/step - loss: 0.5450 - val_loss: 0.3349\n",
      "Epoch 49/50\n",
      "159/159 [==============================] - 0s 857us/step - loss: 0.5336 - val_loss: 0.3210\n",
      "Epoch 50/50\n",
      "159/159 [==============================] - 0s 877us/step - loss: 0.5355 - val_loss: 0.3627\n",
      "Use model: Neural Network\n",
      "RMSE Score: 0.6649900220751497\n",
      "MAE Score: 0.278861806151989\n"
     ]
    }
   ],
   "source": [
    "nn_models = eval_nn(en_df, use_cols, target)"
   ]
  },
  {
   "cell_type": "code",
   "execution_count": 26,
   "id": "6b170f20-b08c-4342-9c0b-b14f3838a451",
   "metadata": {},
   "outputs": [
    {
     "data": {
      "text/html": [
       "<div>\n",
       "<style scoped>\n",
       "    .dataframe tbody tr th:only-of-type {\n",
       "        vertical-align: middle;\n",
       "    }\n",
       "\n",
       "    .dataframe tbody tr th {\n",
       "        vertical-align: top;\n",
       "    }\n",
       "\n",
       "    .dataframe thead th {\n",
       "        text-align: right;\n",
       "    }\n",
       "</style>\n",
       "<table border=\"1\" class=\"dataframe\">\n",
       "  <thead>\n",
       "    <tr style=\"text-align: right;\">\n",
       "      <th></th>\n",
       "      <th>real_rate</th>\n",
       "      <th>pred_rate_nn</th>\n",
       "    </tr>\n",
       "  </thead>\n",
       "  <tbody>\n",
       "    <tr>\n",
       "      <th>count</th>\n",
       "      <td>13530.000000</td>\n",
       "      <td>13530.000000</td>\n",
       "    </tr>\n",
       "    <tr>\n",
       "      <th>mean</th>\n",
       "      <td>0.213703</td>\n",
       "      <td>1.739611</td>\n",
       "    </tr>\n",
       "    <tr>\n",
       "      <th>std</th>\n",
       "      <td>1.036265</td>\n",
       "      <td>7.697485</td>\n",
       "    </tr>\n",
       "    <tr>\n",
       "      <th>min</th>\n",
       "      <td>-18.044203</td>\n",
       "      <td>-307.977692</td>\n",
       "    </tr>\n",
       "    <tr>\n",
       "      <th>25%</th>\n",
       "      <td>-0.044068</td>\n",
       "      <td>-0.409867</td>\n",
       "    </tr>\n",
       "    <tr>\n",
       "      <th>50%</th>\n",
       "      <td>0.082541</td>\n",
       "      <td>1.403070</td>\n",
       "    </tr>\n",
       "    <tr>\n",
       "      <th>75%</th>\n",
       "      <td>0.303387</td>\n",
       "      <td>3.080133</td>\n",
       "    </tr>\n",
       "    <tr>\n",
       "      <th>max</th>\n",
       "      <td>18.749185</td>\n",
       "      <td>95.464841</td>\n",
       "    </tr>\n",
       "  </tbody>\n",
       "</table>\n",
       "</div>"
      ],
      "text/plain": [
       "          real_rate  pred_rate_nn\n",
       "count  13530.000000  13530.000000\n",
       "mean       0.213703      1.739611\n",
       "std        1.036265      7.697485\n",
       "min      -18.044203   -307.977692\n",
       "25%       -0.044068     -0.409867\n",
       "50%        0.082541      1.403070\n",
       "75%        0.303387      3.080133\n",
       "max       18.749185     95.464841"
      ]
     },
     "execution_count": 26,
     "metadata": {},
     "output_type": "execute_result"
    }
   ],
   "source": [
    "X = en_df[use_cols].values\n",
    "pred = np.zeros((len(X), 1))\n",
    "for model in nn_models.values():\n",
    "    pred += model.predict(StandardScaler().fit_transform(X))\n",
    "\n",
    "en_df['pred_nn'] = pred / 4\n",
    "en_df['pred_rate_nn'] = en_df['pred_nn'] - en_df['price_1'].apply(lambda x: np.log1p(x))\n",
    "\n",
    "en_df[['real_rate', 'pred_rate_nn']].describe()"
   ]
  },
  {
   "cell_type": "code",
   "execution_count": 27,
   "id": "ddedc056-ce04-4fb8-ac9a-3bb85254e11d",
   "metadata": {},
   "outputs": [
    {
     "data": {
      "text/html": [
       "<div>\n",
       "<style scoped>\n",
       "    .dataframe tbody tr th:only-of-type {\n",
       "        vertical-align: middle;\n",
       "    }\n",
       "\n",
       "    .dataframe tbody tr th {\n",
       "        vertical-align: top;\n",
       "    }\n",
       "\n",
       "    .dataframe thead th {\n",
       "        text-align: right;\n",
       "    }\n",
       "</style>\n",
       "<table border=\"1\" class=\"dataframe\">\n",
       "  <thead>\n",
       "    <tr style=\"text-align: right;\">\n",
       "      <th></th>\n",
       "      <th>target</th>\n",
       "      <th>pred_nn</th>\n",
       "    </tr>\n",
       "  </thead>\n",
       "  <tbody>\n",
       "    <tr>\n",
       "      <th>count</th>\n",
       "      <td>13530.000000</td>\n",
       "      <td>13530.000000</td>\n",
       "    </tr>\n",
       "    <tr>\n",
       "      <th>mean</th>\n",
       "      <td>1.420694</td>\n",
       "      <td>2.946602</td>\n",
       "    </tr>\n",
       "    <tr>\n",
       "      <th>std</th>\n",
       "      <td>1.446046</td>\n",
       "      <td>8.390131</td>\n",
       "    </tr>\n",
       "    <tr>\n",
       "      <th>min</th>\n",
       "      <td>0.000000</td>\n",
       "      <td>-307.898418</td>\n",
       "    </tr>\n",
       "    <tr>\n",
       "      <th>25%</th>\n",
       "      <td>0.463734</td>\n",
       "      <td>0.674354</td>\n",
       "    </tr>\n",
       "    <tr>\n",
       "      <th>50%</th>\n",
       "      <td>1.029619</td>\n",
       "      <td>2.243778</td>\n",
       "    </tr>\n",
       "    <tr>\n",
       "      <th>75%</th>\n",
       "      <td>1.856298</td>\n",
       "      <td>3.866086</td>\n",
       "    </tr>\n",
       "    <tr>\n",
       "      <th>max</th>\n",
       "      <td>19.336971</td>\n",
       "      <td>95.966827</td>\n",
       "    </tr>\n",
       "  </tbody>\n",
       "</table>\n",
       "</div>"
      ],
      "text/plain": [
       "             target       pred_nn\n",
       "count  13530.000000  13530.000000\n",
       "mean       1.420694      2.946602\n",
       "std        1.446046      8.390131\n",
       "min        0.000000   -307.898418\n",
       "25%        0.463734      0.674354\n",
       "50%        1.029619      2.243778\n",
       "75%        1.856298      3.866086\n",
       "max       19.336971     95.966827"
      ]
     },
     "execution_count": 27,
     "metadata": {},
     "output_type": "execute_result"
    }
   ],
   "source": [
    "en_df[['target', 'pred_nn']].describe()"
   ]
  },
  {
   "cell_type": "code",
   "execution_count": 28,
   "id": "85af59d0-f7fb-4622-ad0d-e40203230fa0",
   "metadata": {},
   "outputs": [
    {
     "data": {
      "image/png": "[encoded data removed]",
      "text/plain": [
       "<Figure size 1152x576 with 1 Axes>"
      ]
     },
     "metadata": {
      "needs_background": "light"
     },
     "output_type": "display_data"
    }
   ],
   "source": [
    "plt.figure(figsize=(16, 8))\n",
    "plt.scatter(en_df['pred_nn'], en_df['pred_nn'] - en_df['target'])\n",
    "plt.title(\"residual plot(NN)\")\n",
    "plt.grid(True)\n",
    "plt.show()"
   ]
  },
  {
   "cell_type": "code",
   "execution_count": 29,
   "id": "d9df0726-1dc7-491a-a8a1-abca5af42abe",
   "metadata": {},
   "outputs": [
    {
     "data": {
      "image/png": "[encoded data removed]",
      "text/plain": [
       "<Figure size 1152x576 with 1 Axes>"
      ]
     },
     "metadata": {
      "needs_background": "light"
     },
     "output_type": "display_data"
    }
   ],
   "source": [
    "plt.figure(figsize=(16, 8))\n",
    "plt.scatter(en_df['pred_rate_nn'], en_df['pred_rate_nn'] - en_df['real_rate'])\n",
    "plt.title(\"rate residual plot(NN)\")\n",
    "plt.grid(True)\n",
    "plt.show()"
   ]
  },
  {
   "cell_type": "code",
   "execution_count": 30,
   "id": "6da80db7-1426-4ee4-ac00-d75ee27acf34",
   "metadata": {},
   "outputs": [
    {
     "name": "stdout",
     "output_type": "stream",
     "text": [
      "LGBM rate RMSE: 0.6196306141164835\n",
      "LGBM rate MAE: 0.4364644279820369\n",
      "Linear rate RMSE: 1.0474544656487979\n",
      "Linear rate MAE: 0.3261771529418606\n",
      "NN rate RMSE: 7.8384838279165105\n",
      "NN rate MAE: 3.6362936568994626\n"
     ]
    }
   ],
   "source": [
    "print(f\"LGBM rate RMSE: {np.sqrt(mean_squared_error(en_df['real_rate'].values, en_df['pred_rate'].values))}\")\n",
    "print(f\"LGBM rate MAE: {mean_absolute_error(en_df['real_rate'].values, en_df['pred_rate'].values)}\")\n",
    "print(f\"Linear rate RMSE: {np.sqrt(mean_squared_error(en_df['real_rate'].values, en_df['pred_rate_linear'].values))}\")\n",
    "print(f\"Linear rate MAE: {mean_absolute_error(en_df['real_rate'].values, en_df['pred_rate_linear'].values)}\")\n",
    "print(f\"NN rate RMSE: {np.sqrt(mean_squared_error(en_df['real_rate'].values, en_df['pred_rate_nn'].values))}\")\n",
    "print(f\"NN rate MAE: {mean_absolute_error(en_df['real_rate'].values, en_df['pred_rate_nn'].values)}\")"
   ]
  },
  {
   "cell_type": "raw",
   "id": "18e5466b-f45b-4901-a8ed-8389fd864ced",
   "metadata": {},
   "source": [
    "experiment.end()"
   ]
  }
 ],
 "metadata": {
  "kernelspec": {
   "display_name": "Python 3 (ipykernel)",
   "language": "python",
   "name": "python3"
  },
  "language_info": {
   "codemirror_mode": {
    "name": "ipython",
    "version": 3
   },
   "file_extension": ".py",
   "mimetype": "text/x-python",
   "name": "python",
   "nbconvert_exporter": "python",
   "pygments_lexer": "ipython3",
   "version": "3.8.10"
  }
 },
 "nbformat": 4,
 "nbformat_minor": 5
}
